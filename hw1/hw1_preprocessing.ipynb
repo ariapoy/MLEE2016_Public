{
 "cells": [
  {
   "cell_type": "code",
   "execution_count": 1,
   "metadata": {
    "collapsed": true
   },
   "outputs": [],
   "source": [
    "import numpy as np\n",
    "import pandas as pd\n",
    "import matplotlib.pyplot as plt\n",
    "%matplotlib inline\n",
    "import matplotlib\n",
    "matplotlib.rcParams['figure.figsize'] = (10, 6)"
   ]
  },
  {
   "cell_type": "markdown",
   "metadata": {},
   "source": [
    "## Mark Chang's data"
   ]
  },
  {
   "cell_type": "code",
   "execution_count": 2,
   "metadata": {
    "collapsed": true
   },
   "outputs": [],
   "source": [
    "x=np.matrix([[-1.        , -0.93103448, -0.86206897, -0.79310345, -0.72413793, -0.65517241, \n",
    "           -0.5862069 , -0.51724138, -0.44827586, -0.37931034, -0.31034483, -0.24137931,\n",
    "           -0.17241379, -0.10344828, -0.03448276,  0.03448276,  0.10344828,  0.17241379,\n",
    "           0.24137931,  0.31034483,  0.37931034,  0.44827586,  0.51724138,  0.5862069 ,\n",
    "           0.65517241,  0.72413793,  0.79310345,  0.86206897,  0.93103448,  1.        , ]])\n",
    "y_train=np.matrix([[ 0.72679128,  0.88352371,  0.55848839,  0.9960148 ,  0.27727561,  1.58193644,\n",
    "            0.35519674,  0.40919248, -0.66450448, -1.02347355, -0.71433077, -0.97857498,\n",
    "           -0.9542627 , -0.85186192, -0.00210849, -0.00559543,  0.6545823 ,  0.82926143,\n",
    "            0.3728542 ,  1.60336863,  1.20548029, -0.20721056,  0.44713523, -0.49832341,\n",
    "           -0.34765828, -1.51883285, -0.95758709, -0.83135465, -0.90942741, -0.10016318, ]])\n",
    "y_test=np.matrix([[ 0.79521635,  0.32523979,  0.63212171,  1.60522123,  0.72400525,  1.33408882,\n",
    "          -0.42555819, -0.19726661, -0.66041197, -0.65470685, -0.93661018, -0.87634342,\n",
    "          -0.84363868, -0.95689774, -0.1376653 ,  0.40842111, -0.20794503,  0.15057061,\n",
    "           0.50331016,  1.54413185,  0.01230807,  0.38623098,  0.32021572, -0.02133113,\n",
    "          -0.28643186, -0.91730531, -0.65369342, -0.68990553, -0.73800708, -0.56659495, ]])\n"
   ]
  },
  {
   "cell_type": "code",
   "execution_count": 3,
   "metadata": {
    "collapsed": false
   },
   "outputs": [],
   "source": [
    "def plot_data( y_model, title=''):\n",
    "    plt.ion()\n",
    "    fig, ax = plt.subplots()\n",
    "    ax.plot(np.array([x[0,i]for i in range(x.shape[1])]) ,\n",
    "            np.array([y_model[0,i]for i in range(y_model.shape[1])]) ,\n",
    "            'k--')\n",
    "    ax.plot(x, y_train, 'bo' )\n",
    "    ax.plot(x, y_test, 'ro' )\n",
    "    ax.set_xlim((-1, 1)) \n",
    "    ax.set_ylim((-2, 2)) \n",
    "    ax.set_title(title)\n",
    "    plt.show()\n",
    "\n",
    "def linear_regression(order):\n",
    "    X = np.matrix([[x[0,j]**i for i in range(order) ] for j in range(x.shape[1])])\n",
    "    w =  np.linalg.pinv( X )*y_train.T \n",
    "    y_model = (X*w).T\n",
    "    e_in = np.average(np.square(y_train - y_model))\n",
    "    e_out = np.average(np.square(y_test - y_model))\n",
    "    status_str = \"Order=%s, Ein=%.6f, Eout=%.6f\"%(order - 1,e_in,e_out)\n",
    "    print(status_str)\n",
    "    plot_data(y_model , status_str) "
   ]
  },
  {
   "cell_type": "code",
   "execution_count": 4,
   "metadata": {
    "collapsed": false
   },
   "outputs": [
    {
     "name": "stdout",
     "output_type": "stream",
     "text": [
      "Order=7, Ein=0.128044, Eout=0.175504\n"
     ]
    },
    {
     "data": {
      "image/png": "[encoded data removed]",
      "text/plain": [
       "<matplotlib.figure.Figure at 0x8eed320>"
      ]
     },
     "metadata": {},
     "output_type": "display_data"
    }
   ],
   "source": [
    "linear_regression(8)"
   ]
  },
  {
   "cell_type": "markdown",
   "metadata": {},
   "source": [
    "## NTU EE 2016 Machine Learning hw1: PM2.5"
   ]
  },
  {
   "cell_type": "code",
   "execution_count": 5,
   "metadata": {
    "collapsed": false
   },
   "outputs": [
    {
     "data": {
      "text/html": [
       "<div>\n",
       "<table border=\"1\" class=\"dataframe\">\n",
       "  <thead>\n",
       "    <tr style=\"text-align: right;\">\n",
       "      <th></th>\n",
       "      <th>attributes</th>\n",
       "      <th>0</th>\n",
       "      <th>1</th>\n",
       "      <th>2</th>\n",
       "      <th>3</th>\n",
       "      <th>4</th>\n",
       "      <th>5</th>\n",
       "      <th>6</th>\n",
       "      <th>7</th>\n",
       "      <th>8</th>\n",
       "      <th>...</th>\n",
       "      <th>14</th>\n",
       "      <th>15</th>\n",
       "      <th>16</th>\n",
       "      <th>17</th>\n",
       "      <th>18</th>\n",
       "      <th>19</th>\n",
       "      <th>20</th>\n",
       "      <th>21</th>\n",
       "      <th>22</th>\n",
       "      <th>23</th>\n",
       "    </tr>\n",
       "    <tr>\n",
       "      <th>date</th>\n",
       "      <th></th>\n",
       "      <th></th>\n",
       "      <th></th>\n",
       "      <th></th>\n",
       "      <th></th>\n",
       "      <th></th>\n",
       "      <th></th>\n",
       "      <th></th>\n",
       "      <th></th>\n",
       "      <th></th>\n",
       "      <th></th>\n",
       "      <th></th>\n",
       "      <th></th>\n",
       "      <th></th>\n",
       "      <th></th>\n",
       "      <th></th>\n",
       "      <th></th>\n",
       "      <th></th>\n",
       "      <th></th>\n",
       "      <th></th>\n",
       "      <th></th>\n",
       "    </tr>\n",
       "  </thead>\n",
       "  <tbody>\n",
       "    <tr>\n",
       "      <th>2014-01-01</th>\n",
       "      <td>AMB_TEMP</td>\n",
       "      <td>14</td>\n",
       "      <td>14</td>\n",
       "      <td>14</td>\n",
       "      <td>13</td>\n",
       "      <td>12</td>\n",
       "      <td>12</td>\n",
       "      <td>12</td>\n",
       "      <td>12</td>\n",
       "      <td>15</td>\n",
       "      <td>...</td>\n",
       "      <td>22</td>\n",
       "      <td>22</td>\n",
       "      <td>21</td>\n",
       "      <td>19</td>\n",
       "      <td>17</td>\n",
       "      <td>16</td>\n",
       "      <td>15</td>\n",
       "      <td>15</td>\n",
       "      <td>15</td>\n",
       "      <td>15</td>\n",
       "    </tr>\n",
       "    <tr>\n",
       "      <th>2014-01-01</th>\n",
       "      <td>CH4</td>\n",
       "      <td>1.8</td>\n",
       "      <td>1.8</td>\n",
       "      <td>1.8</td>\n",
       "      <td>1.8</td>\n",
       "      <td>1.8</td>\n",
       "      <td>1.8</td>\n",
       "      <td>1.8</td>\n",
       "      <td>1.8</td>\n",
       "      <td>1.8</td>\n",
       "      <td>...</td>\n",
       "      <td>1.8</td>\n",
       "      <td>1.8</td>\n",
       "      <td>1.8</td>\n",
       "      <td>1.8</td>\n",
       "      <td>1.8</td>\n",
       "      <td>1.8</td>\n",
       "      <td>1.8</td>\n",
       "      <td>1.8</td>\n",
       "      <td>1.8</td>\n",
       "      <td>1.8</td>\n",
       "    </tr>\n",
       "    <tr>\n",
       "      <th>2014-01-01</th>\n",
       "      <td>CO</td>\n",
       "      <td>0.51</td>\n",
       "      <td>0.41</td>\n",
       "      <td>0.39</td>\n",
       "      <td>0.37</td>\n",
       "      <td>0.35</td>\n",
       "      <td>0.3</td>\n",
       "      <td>0.37</td>\n",
       "      <td>0.47</td>\n",
       "      <td>0.78</td>\n",
       "      <td>...</td>\n",
       "      <td>0.37</td>\n",
       "      <td>0.37</td>\n",
       "      <td>0.47</td>\n",
       "      <td>0.69</td>\n",
       "      <td>0.56</td>\n",
       "      <td>0.45</td>\n",
       "      <td>0.38</td>\n",
       "      <td>0.35</td>\n",
       "      <td>0.36</td>\n",
       "      <td>0.32</td>\n",
       "    </tr>\n",
       "    <tr>\n",
       "      <th>2014-01-01</th>\n",
       "      <td>NMHC</td>\n",
       "      <td>0.2</td>\n",
       "      <td>0.15</td>\n",
       "      <td>0.13</td>\n",
       "      <td>0.12</td>\n",
       "      <td>0.11</td>\n",
       "      <td>0.06</td>\n",
       "      <td>0.1</td>\n",
       "      <td>0.13</td>\n",
       "      <td>0.26</td>\n",
       "      <td>...</td>\n",
       "      <td>0.1</td>\n",
       "      <td>0.13</td>\n",
       "      <td>0.14</td>\n",
       "      <td>0.23</td>\n",
       "      <td>0.18</td>\n",
       "      <td>0.12</td>\n",
       "      <td>0.1</td>\n",
       "      <td>0.09</td>\n",
       "      <td>0.1</td>\n",
       "      <td>0.08</td>\n",
       "    </tr>\n",
       "    <tr>\n",
       "      <th>2014-01-01</th>\n",
       "      <td>NO</td>\n",
       "      <td>0.9</td>\n",
       "      <td>0.6</td>\n",
       "      <td>0.5</td>\n",
       "      <td>1.7</td>\n",
       "      <td>1.8</td>\n",
       "      <td>1.5</td>\n",
       "      <td>1.9</td>\n",
       "      <td>2.2</td>\n",
       "      <td>6.6</td>\n",
       "      <td>...</td>\n",
       "      <td>2.5</td>\n",
       "      <td>2.2</td>\n",
       "      <td>2.5</td>\n",
       "      <td>2.3</td>\n",
       "      <td>2.1</td>\n",
       "      <td>1.9</td>\n",
       "      <td>1.5</td>\n",
       "      <td>1.6</td>\n",
       "      <td>1.8</td>\n",
       "      <td>1.5</td>\n",
       "    </tr>\n",
       "  </tbody>\n",
       "</table>\n",
       "<p>5 rows × 25 columns</p>\n",
       "</div>"
      ],
      "text/plain": [
       "           attributes     0     1     2     3     4     5     6     7     8  \\\n",
       "date                                                                          \n",
       "2014-01-01   AMB_TEMP    14    14    14    13    12    12    12    12    15   \n",
       "2014-01-01        CH4   1.8   1.8   1.8   1.8   1.8   1.8   1.8   1.8   1.8   \n",
       "2014-01-01         CO  0.51  0.41  0.39  0.37  0.35   0.3  0.37  0.47  0.78   \n",
       "2014-01-01       NMHC   0.2  0.15  0.13  0.12  0.11  0.06   0.1  0.13  0.26   \n",
       "2014-01-01         NO   0.9   0.6   0.5   1.7   1.8   1.5   1.9   2.2   6.6   \n",
       "\n",
       "            ...     14    15    16    17    18    19    20    21    22    23  \n",
       "date        ...                                                               \n",
       "2014-01-01  ...     22    22    21    19    17    16    15    15    15    15  \n",
       "2014-01-01  ...    1.8   1.8   1.8   1.8   1.8   1.8   1.8   1.8   1.8   1.8  \n",
       "2014-01-01  ...   0.37  0.37  0.47  0.69  0.56  0.45  0.38  0.35  0.36  0.32  \n",
       "2014-01-01  ...    0.1  0.13  0.14  0.23  0.18  0.12   0.1  0.09   0.1  0.08  \n",
       "2014-01-01  ...    2.5   2.2   2.5   2.3   2.1   1.9   1.5   1.6   1.8   1.5  \n",
       "\n",
       "[5 rows x 25 columns]"
      ]
     },
     "execution_count": 5,
     "metadata": {},
     "output_type": "execute_result"
    }
   ],
   "source": [
    "data = pd.read_csv(\"./train.csv\", sep=\",\")\n",
    "data.columns = pd.Index(['date', 'location', 'attributes'] + list(data.columns.values)[3:])\n",
    "data = data.drop('location', 1)\n",
    "data.index = pd.to_datetime(data['date'])\n",
    "data = data.drop('date', 1)\n",
    "data.head()"
   ]
  },
  {
   "cell_type": "markdown",
   "metadata": {},
   "source": [
    "這裡我們只取 <font color=\"red\">**PM2.5**</font> 的前 $9$ 個時段為 feature."
   ]
  },
  {
   "cell_type": "code",
   "execution_count": 6,
   "metadata": {
    "collapsed": false
   },
   "outputs": [
    {
     "name": "stderr",
     "output_type": "stream",
     "text": [
      "c:\\python27\\lib\\site-packages\\ipykernel\\__main__.py:8: FutureWarning: convert_objects is deprecated.  Use the data-type specific converters pd.to_datetime, pd.to_timedelta and pd.to_numeric.\n"
     ]
    }
   ],
   "source": [
    "input_data_X = []\n",
    "input_data_y = []\n",
    "for day in list(set(data.index)):\n",
    "    for time in xrange(15):\n",
    "        tmp = data.loc[day, ['attributes'] + [str(x) for x in xrange(time, time + 9)]]\n",
    "        tmp.index = tmp['attributes'].values\n",
    "        tmp = tmp.drop('attributes', 1)\n",
    "        tmp = tmp.convert_objects(convert_numeric=True)\n",
    "        input_data_X.append(tmp)\n",
    "        input_data_y.append(data.loc[data['attributes'] == 'PM2.5',\\\n",
    "                                     [str(time + 9)]].loc[day,].values.astype(np.float))"
   ]
  },
  {
   "cell_type": "code",
   "execution_count": 12,
   "metadata": {
    "collapsed": false
   },
   "outputs": [],
   "source": [
    "training_set_X = []\n",
    "training_set_y = []\n",
    "validating_set_X = []\n",
    "validating_set_y = []\n",
    "seed = np.arange(3600)\n",
    "np.random.shuffle(seed)\n",
    "for i in seed[:3000]:\n",
    "    training_set_X.append(np.nan_to_num(input_data_X[i].loc['PM2.5', :].values))#.reshape(18 * 9)))\n",
    "    #training_set_X.append(np.nan_to_num(input_data_X[i].iloc[[0, 1, 2, 3, 6, 9, 12, 13], :].values.reshape(8 * 9)))\n",
    "    training_set_y.append(input_data_y[i])\n",
    "for j in seed[3000:]:\n",
    "    validating_set_X.append(np.nan_to_num(input_data_X[-(j + 1)].loc['PM2.5', :].values))#.reshape(18 * 9)))\n",
    "    #testing_set_X.append(np.nan_to_num(input_data_X[-(j + 1)].iloc[[0, 1, 2, 3, 6, 9, 12, 13], :].values.reshape(8 * 9)))\n",
    "    validating_set_y.append(input_data_y[-(j + 1)])"
   ]
  },
  {
   "cell_type": "code",
   "execution_count": 13,
   "metadata": {
    "collapsed": false
   },
   "outputs": [
    {
     "data": {
      "text/plain": [
       "[array([ 51.,  57.,  71.,  64.,  62.,  51.,  52.,  47.,  53.]),\n",
       " array([ 52.,  53.,  39.,  17.,   9.,   6.,  12.,  16.,  15.])]"
      ]
     },
     "execution_count": 13,
     "metadata": {},
     "output_type": "execute_result"
    }
   ],
   "source": [
    "training_set_X[0: 2]"
   ]
  },
  {
   "cell_type": "code",
   "execution_count": 14,
   "metadata": {
    "collapsed": false
   },
   "outputs": [
    {
     "data": {
      "text/plain": [
       "[array([ 59.]), array([ 16.])]"
      ]
     },
     "execution_count": 14,
     "metadata": {},
     "output_type": "execute_result"
    }
   ],
   "source": [
    "training_set_y[0: 2]"
   ]
  },
  {
   "cell_type": "markdown",
   "metadata": {},
   "source": [
    "之後會繼續整理我的方法，再麻煩大家多等一會兒囉 =)"
   ]
  },
  {
   "cell_type": "code",
   "execution_count": null,
   "metadata": {
    "collapsed": true
   },
   "outputs": [],
   "source": []
  }
 ],
 "metadata": {
  "kernelspec": {
   "display_name": "Python 2",
   "language": "python",
   "name": "python2"
  },
  "language_info": {
   "codemirror_mode": {
    "name": "ipython",
    "version": 2
   },
   "file_extension": ".py",
   "mimetype": "text/x-python",
   "name": "python",
   "nbconvert_exporter": "python",
   "pygments_lexer": "ipython2",
   "version": "2.7.11"
  }
 },
 "nbformat": 4,
 "nbformat_minor": 0
}
